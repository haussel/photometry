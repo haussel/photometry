{
 "cells": [
  {
   "cell_type": "markdown",
   "metadata": {
    "deletable": true,
    "editable": true
   },
   "source": [
    "# Computing planet fluxes\n",
    "\n",
    "\n",
    "The photometry package contains a class to compute the flux of the planets that are used as primary calibrators in (sub-)mm astronomy. For the gas giants Uranus and Neptune, the class use the ESA models by Moreno et al. for the brightness temperature, and relies on the JPL Horizons for the ephemeris. This notebook illustrate how to predict the flux of a planet."
   ]
  },
  {
   "cell_type": "code",
   "execution_count": 1,
   "metadata": {
    "collapsed": true,
    "deletable": true,
    "editable": true
   },
   "outputs": [],
   "source": [
    "%matplotlib inline\n",
    "import photometry as pt\n",
    "from astropy import units as u\n",
    "from astropy.coordinates import Angle\n",
    "import numpy as np\n",
    "from matplotlib import pyplot as plt\n",
    "from astropy.time import Time"
   ]
  },
  {
   "cell_type": "code",
   "execution_count": 2,
   "metadata": {
    "collapsed": false,
    "deletable": true,
    "editable": true
   },
   "outputs": [],
   "source": [
    "# initialize the planets\n",
    "uranus = pt.GiantPlanet('Uranus')\n",
    "neptune = pt.GiantPlanet('Neptune')"
   ]
  },
  {
   "cell_type": "code",
   "execution_count": 3,
   "metadata": {
    "collapsed": false,
    "deletable": true,
    "editable": true
   },
   "outputs": [],
   "source": [
    "# compute neptune solid angle for one date, and uranus for two\n",
    "neptune.set_dates(Time('2017-04-20T00:00:00.0'))\n",
    "neptune_omega = neptune.solid_angle()\n",
    "uranus.set_dates(Time(['2015-10-15T00:00:00.0','2017-04-20T00:00:00.0']))\n",
    "uranus_omega =  uranus.solid_angle()"
   ]
  },
  {
   "cell_type": "code",
   "execution_count": 4,
   "metadata": {
    "collapsed": false,
    "deletable": true,
    "editable": true
   },
   "outputs": [
    {
     "name": "stdout",
     "output_type": "stream",
     "text": [
      "neptune solid angle: 9.044672375164236e-11 rad2\n",
      "uranus solid angle: [  2.49967181e-10   2.06228857e-10] rad2\n"
     ]
    }
   ],
   "source": [
    "print(\"neptune solid angle: {}\".format(neptune_omega))\n",
    "print(\"uranus solid angle: {}\".format(uranus_omega))"
   ]
  },
  {
   "cell_type": "code",
   "execution_count": 5,
   "metadata": {
    "collapsed": false,
    "deletable": true,
    "editable": true
   },
   "outputs": [],
   "source": [
    "spec_uranus = uranus.spectral_irradiance()\n",
    "spec_neptune_2017 = neptune.spectral_irradiance()"
   ]
  },
  {
   "cell_type": "code",
   "execution_count": 6,
   "metadata": {
    "collapsed": true,
    "deletable": true,
    "editable": true
   },
   "outputs": [],
   "source": [
    "nika2mm = pt.Passband(file='2mm.NIKA2.pb')\n",
    "nika1mmH = pt.Passband(file='1mmH.NIKA2.pb')\n",
    "nika1mmV = pt.Passband(file='1mmV.NIKA2.pb')"
   ]
  },
  {
   "cell_type": "markdown",
   "metadata": {
    "deletable": true,
    "editable": true
   },
   "source": [
    "Here we will use the fnu_ab() method to compute the planet fluxes. Basically AB convention quote the flux that a source that was generating the same response as our objcet would have with a spectrum $S^0_\\nu$=cte. \n",
    "\n",
    "$\\int T_{\\nu} S^0_{\\nu} d\\nu = \\int S_{\\nu} T_{\\nu} d\\nu$\n",
    "\n",
    "Where $T_{\\nu}$ is the system response. \n",
    "\n",
    "So that:\n",
    "\n",
    "$  S^0_{\\nu} = \\frac{\\int S_{\\nu} T_{\\nu} d\\nu}{\\int T_{\\nu} d\\nu}$\n",
    "\n"
   ]
  },
  {
   "cell_type": "code",
   "execution_count": 7,
   "metadata": {
    "collapsed": true,
    "deletable": true,
    "editable": true
   },
   "outputs": [],
   "source": [
    "nika2mm.fnu_ab?"
   ]
  },
  {
   "cell_type": "code",
   "execution_count": 8,
   "metadata": {
    "collapsed": false,
    "deletable": true,
    "editable": true
   },
   "outputs": [
    {
     "name": "stdout",
     "output_type": "stream",
     "text": [
      "Uranus fluxes in 2017:\n",
      "1mmH: 36.752 Jy | 2mm: 15.002 Jy | 1mmV: 37.389 Jy\n"
     ]
    }
   ],
   "source": [
    "print(\"Uranus fluxes in 2017:\")\n",
    "print('1mmH: {0:0.03f} | 2mm: {1:0.03f} | 1mmV: {2:0.03f}'.\n",
    "          format(nika1mmH.fnu_ab(spec_uranus).to(u.Jy)[1],\n",
    "                     nika2mm.fnu_ab(spec_uranus).to(u.Jy)[1],\n",
    "                     nika1mmV.fnu_ab(spec_uranus).to(u.Jy)[1]))\n",
    "# Recall that 2017 is the second spectrum.."
   ]
  },
  {
   "cell_type": "code",
   "execution_count": 9,
   "metadata": {
    "collapsed": false,
    "deletable": true,
    "editable": true
   },
   "outputs": [
    {
     "data": {
      "text/latex": [
       "$[18.184083,~15.0023] \\; \\mathrm{Jy}$"
      ],
      "text/plain": [
       "<Quantity [ 18.18408287, 15.00229995] Jy>"
      ]
     },
     "execution_count": 9,
     "metadata": {},
     "output_type": "execute_result"
    }
   ],
   "source": [
    "# Print all the uranus fluxes\n",
    "nika2mm.fnu_ab(spec_uranus).to(u.Jy)"
   ]
  },
  {
   "cell_type": "code",
   "execution_count": 10,
   "metadata": {
    "collapsed": false,
    "deletable": true,
    "editable": true
   },
   "outputs": [
    {
     "name": "stdout",
     "output_type": "stream",
     "text": [
      "Neptune fluxes in 2017:\n",
      "1mmH: 15.672 Jy | 2mm: 6.858 Jy | 1mmV: 15.931 Jy\n"
     ]
    }
   ],
   "source": [
    "print(\"Neptune fluxes in 2017:\")\n",
    "print('1mmH: {0:0.03f} | 2mm: {1:0.03f} | 1mmV: {2:0.03f}'.\n",
    "          format(nika1mmH.fnu_ab(spec_neptune_2017).to(u.Jy),\n",
    "                     nika2mm.fnu_ab(spec_neptune_2017).to(u.Jy),\n",
    "                     nika1mmV.fnu_ab(spec_neptune_2017).to(u.Jy)))\n"
   ]
  },
  {
   "cell_type": "code",
   "execution_count": 11,
   "metadata": {
    "collapsed": false,
    "deletable": true,
    "editable": true
   },
   "outputs": [
    {
     "data": {
      "text/plain": [
       "<matplotlib.legend.Legend at 0x10866f208>"
      ]
     },
     "execution_count": 11,
     "metadata": {},
     "output_type": "execute_result"
    },
    {
     "data": {
      "image/png": "[encoded data removed]",
      "text/plain": [
       "<matplotlib.figure.Figure at 0x10db9a2b0>"
      ]
     },
     "metadata": {},
     "output_type": "display_data"
    }
   ],
   "source": [
    "fig1 = plt.figure(1, (8,8), 60)\n",
    "plt.plot(spec_uranus.nu(u.GHz), (spec_uranus.fnu(u.Jy))[1,:], label='Uranus Apr 2017')\n",
    "plt.plot(spec_uranus.nu(u.GHz), (spec_uranus.fnu(u.Jy))[0,:], label='Uranus Oct 2015')\n",
    "plt.plot(spec_neptune_2017.nu(u.GHz), spec_neptune_2017.fnu(u.Jy), label='Neptune Oct 2015')\n",
    "plt.xlabel(r'$\\nu$ [GHz]')\n",
    "plt.ylabel(r'$S_{\\nu} [Jy]$')\n",
    "plt.axis([50, 350, 0, 100])\n",
    "plt.plot(nika2mm.nu(u.GHz), nika2mm.y*60., label='NIKA2-2mm')\n",
    "plt.plot(nika1mmH.nu(u.GHz), nika1mmH.y*60., label='NIKA2-1mmH')\n",
    "plt.plot(nika1mmV.nu(u.GHz), nika1mmV.y*60., label='NIKA2-1mmV')\n",
    "plt.legend(loc='upper left', frameon=True)\n",
    "\n",
    "\n",
    "\n"
   ]
  },
  {
   "cell_type": "markdown",
   "metadata": {
    "collapsed": true,
    "deletable": true,
    "editable": true
   },
   "source": [
    "In NIKA, the NIKA2 predecessor, a different convention for quoting fluxes was used:\n",
    "\n",
    "$ S_{\\nu_{0}}= S_{\\nu_{0}}^{c} \\frac{\\int S_{\\nu} T_{\\nu} d \\nu }{\\int S_{\\nu}^{c} T_{\\nu} d \\nu} $\n",
    "\n",
    "Where $S_{\\nu}$ is the spectrum of the object, and $S_{\\nu}^{c}$ is the spectrum of the calibrator, and $\\nu_{0}$ is the reference frequency of the band. In other word, the quoted flux is the the flux that the would planet have at the reference frequency $\\nu_{0}$ in order to generate the same response from the instrument as the object.\n",
    "\n",
    "So the flux used for the planet are the one at the reference frequency. Here is how to obtain them:"
   ]
  },
  {
   "cell_type": "code",
   "execution_count": 12,
   "metadata": {
    "collapsed": false,
    "deletable": true,
    "editable": true
   },
   "outputs": [
    {
     "name": "stdout",
     "output_type": "stream",
     "text": [
      "260.0 GHz\n",
      "[ 45.96135186  37.91920614] Jy\n"
     ]
    }
   ],
   "source": [
    "print(nika1mmH.xref(u.GHz))\n",
    "print(spec_uranus.fnu_nu(nika1mmH.xref(u.GHz)).to(u.Jy))"
   ]
  },
  {
   "cell_type": "code",
   "execution_count": 13,
   "metadata": {
    "collapsed": false,
    "deletable": true,
    "editable": true
   },
   "outputs": [
    {
     "name": "stdout",
     "output_type": "stream",
     "text": [
      "260.0 GHz\n",
      "[ 45.96135186  37.91920614] Jy\n"
     ]
    }
   ],
   "source": [
    "print(nika1mmV.xref(u.GHz))\n",
    "print(spec_uranus.fnu_nu(nika1mmV.xref(u.GHz)).to(u.Jy))"
   ]
  },
  {
   "cell_type": "code",
   "execution_count": 14,
   "metadata": {
    "collapsed": false,
    "deletable": true,
    "editable": true
   },
   "outputs": [
    {
     "name": "stdout",
     "output_type": "stream",
     "text": [
      "150.0 GHz\n",
      "[ 17.79495937  14.68126382] Jy\n"
     ]
    }
   ],
   "source": [
    "print(nika2mm.xref(u.GHz))\n",
    "print(spec_uranus.fnu_nu(nika2mm.xref(u.GHz)).to(u.Jy))"
   ]
  },
  {
   "cell_type": "markdown",
   "metadata": {
    "collapsed": true,
    "deletable": true,
    "editable": true
   },
   "source": [
    "Since both the 1mmH and 1mmV have the same reference frequency, the planet flux is the same for both. This is why the convention adopted was changed. An other possibility would have to have to different reference frequencies for the two bands, acknowledging that they are different. Their difference though is not that large: when taking into account the atmosphere, passband change with elevation as can be seen in the irampassband_howto notebook."
   ]
  },
  {
   "cell_type": "code",
   "execution_count": null,
   "metadata": {
    "collapsed": true
   },
   "outputs": [],
   "source": []
  }
 ],
 "metadata": {
  "kernelspec": {
   "display_name": "Python 3",
   "language": "python",
   "name": "python3"
  },
  "language_info": {
   "codemirror_mode": {
    "name": "ipython",
    "version": 3
   },
   "file_extension": ".py",
   "mimetype": "text/x-python",
   "name": "python",
   "nbconvert_exporter": "python",
   "pygments_lexer": "ipython3",
   "version": "3.5.3"
  }
 },
 "nbformat": 4,
 "nbformat_minor": 2
}
