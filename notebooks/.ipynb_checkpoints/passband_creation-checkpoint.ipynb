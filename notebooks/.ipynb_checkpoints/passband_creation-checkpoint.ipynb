{
 "cells": [
  {
   "cell_type": "markdown",
   "metadata": {
    "deletable": true,
    "editable": true
   },
   "source": [
    "# Example of creation of a passband file\n",
    "\n",
    "This notebook show how to initialize a passband object from data and write it as a .pb file understood by the class. As an example, we will use the NIKA2 passbands generated in 2017 to take into account the new 2mm array and the new lens. "
   ]
  },
  {
   "cell_type": "code",
   "execution_count": 1,
   "metadata": {
    "collapsed": true,
    "deletable": true,
    "editable": true
   },
   "outputs": [],
   "source": [
    "import numpy as np\n",
    "import photometry as pt\n",
    "from astropy.table import Table\n",
    "from astropy.io import fits\n",
    "from astropy import units as u"
   ]
  },
  {
   "cell_type": "code",
   "execution_count": 2,
   "metadata": {
    "collapsed": true,
    "deletable": true,
    "editable": true
   },
   "outputs": [],
   "source": [
    "# This is the fits file containing the NIKA2 passbands\n",
    "infile = '/Users/haussel/work/nika/Processing/Pipeline/Calibration/BP/Transmission_2017_Jan_NIKA2_v1.fits'"
   ]
  },
  {
   "cell_type": "code",
   "execution_count": 3,
   "metadata": {
    "collapsed": false,
    "deletable": true,
    "editable": true
   },
   "outputs": [],
   "source": [
    "hdu = fits.open(infile)"
   ]
  },
  {
   "cell_type": "code",
   "execution_count": 4,
   "metadata": {
    "collapsed": false,
    "deletable": true,
    "editable": true
   },
   "outputs": [
    {
     "data": {
      "text/plain": [
       "\n",
       " *** End of mandatory fields ***\n",
       "\n",
       "Channel 2: FWHM=46 GHz from 124.7 to 170.6 GHz  Take 150 GHz as the refe\n",
       "Data acquired at I. Neel, Grenoble with a Martin-Puplett Interferometer\n",
       "obtained in 2015\n",
       "NIKA2 initial configuration before going to the 30m telescope\n",
       "reduced v1 2015/10/14\n",
       "by A.Monfardini, A. F.X. Desert\n",
       "Frequency in GHz\n",
       "Atmospheric  transmission for pwv=2mm given as representative of Winter\n",
       "NIKA2 transmission is measured with a Rayleigh-Jeans spectrum in input\n",
       "which is thus consistent with Planets\n",
       "Hence, colour corrections have to be computed\n",
       "   with a R-J spectrum as the reference\n",
       "\n",
       " *** End of mandatory fields ***\n",
       "\n",
       "\n",
       " *** End of mandatory fields ***\n",
       "\n",
       "\n",
       " *** End of mandatory fields ***\n",
       "\n",
       "\n",
       " *** End of mandatory fields ***\n",
       "\n",
       "\n",
       " *** Column names ***\n",
       "\n",
       "\n",
       " *** Column names ***\n",
       "\n",
       "\n",
       " *** Column names ***\n",
       "\n",
       "\n",
       " *** Column names ***\n",
       "\n",
       "\n",
       " *** Column names ***\n",
       "\n",
       "\n",
       " *** Column formats ***\n",
       "\n",
       "\n",
       " *** Column formats ***\n",
       "\n",
       "\n",
       " *** Column formats ***\n",
       "\n",
       "\n",
       " *** Column formats ***\n",
       "\n",
       "\n",
       " *** Column formats ***"
      ]
     },
     "execution_count": 4,
     "metadata": {},
     "output_type": "execute_result"
    }
   ],
   "source": [
    "# First check that we find the passband by extension name\n",
    "hdu['CHANNEL2'].header['COMMENT']"
   ]
  },
  {
   "cell_type": "code",
   "execution_count": 5,
   "metadata": {
    "collapsed": true,
    "deletable": true,
    "editable": true
   },
   "outputs": [],
   "source": [
    "tpb1h = Table.read(infile, hdu='CHANNEL1H')"
   ]
  },
  {
   "cell_type": "code",
   "execution_count": 6,
   "metadata": {
    "collapsed": false,
    "deletable": true,
    "editable": true
   },
   "outputs": [
    {
     "data": {
      "text/html": [
       "&lt;Table length=186&gt;\n",
       "<table id=\"table4421995880\" class=\"table-striped table-bordered table-condensed\">\n",
       "<thead><tr><th>FREQ</th><th>NIKATRANS</th><th>ERROR</th><th>ATMTRANS</th></tr></thead>\n",
       "<thead><tr><th>float32</th><th>float32</th><th>float32</th><th>float32</th></tr></thead>\n",
       "<tr><td>0.0</td><td>0.0</td><td>2.29932e-17</td><td>1.0</td></tr>\n",
       "<tr><td>3.22814</td><td>0.0</td><td>0.0013247</td><td>0.999842</td></tr>\n",
       "<tr><td>6.45629</td><td>0.0</td><td>0.00071371</td><td>0.999577</td></tr>\n",
       "<tr><td>9.68443</td><td>0.0</td><td>0.00137174</td><td>0.999006</td></tr>\n",
       "<tr><td>12.9126</td><td>0.0</td><td>0.000498049</td><td>0.998037</td></tr>\n",
       "<tr><td>16.1407</td><td>0.0</td><td>0.00108322</td><td>0.996534</td></tr>\n",
       "<tr><td>19.3689</td><td>0.0</td><td>0.00133898</td><td>0.98931</td></tr>\n",
       "<tr><td>22.597</td><td>0.0</td><td>0.000665577</td><td>0.986391</td></tr>\n",
       "<tr><td>25.8252</td><td>0.0</td><td>0.00067991</td><td>0.987868</td></tr>\n",
       "<tr><td>29.0533</td><td>0.0</td><td>0.000724376</td><td>0.986545</td></tr>\n",
       "<tr><td>...</td><td>...</td><td>...</td><td>...</td></tr>\n",
       "<tr><td>568.154</td><td>0.0</td><td>0.000214599</td><td>9.22634e-24</td></tr>\n",
       "<tr><td>571.382</td><td>0.0</td><td>0.00152303</td><td>9.27842e-15</td></tr>\n",
       "<tr><td>574.61</td><td>0.0</td><td>0.000402112</td><td>8.77618e-14</td></tr>\n",
       "<tr><td>577.838</td><td>0.0</td><td>0.000356739</td><td>1.25914e-09</td></tr>\n",
       "<tr><td>581.066</td><td>0.0</td><td>0.000430696</td><td>1.46285e-08</td></tr>\n",
       "<tr><td>584.294</td><td>0.0</td><td>0.00054227</td><td>5.62012e-07</td></tr>\n",
       "<tr><td>587.522</td><td>0.0</td><td>0.00034442</td><td>7.57599e-06</td></tr>\n",
       "<tr><td>590.75</td><td>0.0</td><td>0.000835942</td><td>2.18357e-05</td></tr>\n",
       "<tr><td>593.979</td><td>0.0</td><td>0.000956342</td><td>0.000119941</td></tr>\n",
       "<tr><td>597.207</td><td>0.0</td><td>0.000334602</td><td>0.000309492</td></tr>\n",
       "</table>"
      ],
      "text/plain": [
       "<Table length=186>\n",
       "  FREQ  NIKATRANS    ERROR      ATMTRANS \n",
       "float32  float32    float32     float32  \n",
       "------- --------- ----------- -----------\n",
       "    0.0       0.0 2.29932e-17         1.0\n",
       "3.22814       0.0   0.0013247    0.999842\n",
       "6.45629       0.0  0.00071371    0.999577\n",
       "9.68443       0.0  0.00137174    0.999006\n",
       "12.9126       0.0 0.000498049    0.998037\n",
       "16.1407       0.0  0.00108322    0.996534\n",
       "19.3689       0.0  0.00133898     0.98931\n",
       " 22.597       0.0 0.000665577    0.986391\n",
       "25.8252       0.0  0.00067991    0.987868\n",
       "29.0533       0.0 0.000724376    0.986545\n",
       "    ...       ...         ...         ...\n",
       "568.154       0.0 0.000214599 9.22634e-24\n",
       "571.382       0.0  0.00152303 9.27842e-15\n",
       " 574.61       0.0 0.000402112 8.77618e-14\n",
       "577.838       0.0 0.000356739 1.25914e-09\n",
       "581.066       0.0 0.000430696 1.46285e-08\n",
       "584.294       0.0  0.00054227 5.62012e-07\n",
       "587.522       0.0  0.00034442 7.57599e-06\n",
       " 590.75       0.0 0.000835942 2.18357e-05\n",
       "593.979       0.0 0.000956342 0.000119941\n",
       "597.207       0.0 0.000334602 0.000309492"
      ]
     },
     "execution_count": 6,
     "metadata": {},
     "output_type": "execute_result"
    }
   ],
   "source": [
    "# here is what we just read\n",
    "tpb1h"
   ]
  },
  {
   "cell_type": "code",
   "execution_count": 7,
   "metadata": {
    "collapsed": false,
    "deletable": true,
    "editable": true
   },
   "outputs": [],
   "source": [
    "# No need for so many zeros\n",
    "idx1h, = np.where(tpb1h['NIKATRANS'] > 0)"
   ]
  },
  {
   "cell_type": "code",
   "execution_count": 8,
   "metadata": {
    "collapsed": false,
    "deletable": true,
    "editable": true
   },
   "outputs": [],
   "source": [
    "x = tpb1h['FREQ'][idx1h[0]-2:idx1h[-1]+3].data * u.GHz\n",
    "y = tpb1h['NIKATRANS'][idx1h[0]-2:idx1h[-1]+3].data"
   ]
  },
  {
   "cell_type": "code",
   "execution_count": 9,
   "metadata": {
    "collapsed": false,
    "deletable": true,
    "editable": true
   },
   "outputs": [],
   "source": [
    "# We create a header with all the relevant information\n",
    "hd = pt.PassbandHeader()"
   ]
  },
  {
   "cell_type": "code",
   "execution_count": 10,
   "metadata": {
    "collapsed": true,
    "deletable": true,
    "editable": true
   },
   "outputs": [],
   "source": [
    "hd.add_card_value('instrument', 'NIKA2')\n",
    "hd.add_card_value('filter', '1mmH')\n",
    "hd.add_card_value('xunit', u.GHz)\n",
    "hd.add_card_value('xtype', 'nu')\n",
    "hd.add_card_value('xref', 260.0)\n",
    "hd.add_card_value('ytype', 'rsr')\n",
    "\n",
    "\n",
    "# This is the name we want to use. \n",
    "hd.add_card_value('file', '1mmH.NIKA2.pb')"
   ]
  },
  {
   "cell_type": "code",
   "execution_count": 11,
   "metadata": {
    "collapsed": true,
    "deletable": true,
    "editable": true
   },
   "outputs": [],
   "source": [
    "for i in range(3, 9):\n",
    "    if i == 3:\n",
    "        hd.add_card_value('comment', hdu['CHANNEL1H'].header['COMMENT'][i]+'e')\n",
    "    else:\n",
    "        hd.add_card_value('comment', hdu['CHANNEL1H'].header['COMMENT'][i])\n",
    "for i in range(11, 14):\n",
    "    hd.add_card_value('comment', hdu['CHANNEL1H'].header['COMMENT'][i])\n",
    "hd.add_card_value('comment', 'Updated transmission in Jan 2017, after the change of 2mm matrix')\n",
    "hd.add_card_value('comment', 'and the lenses')\n",
    "\n"
   ]
  },
  {
   "cell_type": "code",
   "execution_count": 12,
   "metadata": {
    "collapsed": false,
    "deletable": true,
    "editable": true
   },
   "outputs": [
    {
     "name": "stdout",
     "output_type": "stream",
     "text": [
      "############### Header #################\n",
      "# instrument: NIKA2\n",
      "# xref: 260.0\n",
      "# xtype: nu\n",
      "# comment: Channel 1H: FWHM=42 GHz from 241 to 283 GHz Take 260 GHz as the reference\n",
      "# comment: Data acquired at I. Neel, Grenoble with a Martin-Puplett Interferometer\n",
      "# comment: obtained in 2015\n",
      "# comment: NIKA2 initial configuration before going to the 30m telescope\n",
      "# comment: reduced v1 2015/10/14\n",
      "# comment: by A.Monfardini, A. F.X. Desert\n",
      "# comment: NIKA2 transmission is measured with a Rayleigh-Jeans spectrum in input\n",
      "# comment: which is thus consistent with Planets\n",
      "# comment: Hence, colour corrections have to be computed\n",
      "# comment: Updated transmission in Jan 2017, after the change of 2mm matrix\n",
      "# comment: and the lenses\n",
      "# ytype: rsr\n",
      "# filter: 1mmH\n",
      "# file: 1mmH.NIKA2.pb\n",
      "# xunit: GHz\n",
      "############### End of Header #################\n"
     ]
    }
   ],
   "source": [
    "print(hd)"
   ]
  },
  {
   "cell_type": "code",
   "execution_count": 13,
   "metadata": {
    "collapsed": false,
    "deletable": true,
    "editable": true
   },
   "outputs": [],
   "source": [
    "pb1mmh = pt.Passband(x=x, y=y, header=hd)"
   ]
  },
  {
   "cell_type": "code",
   "execution_count": 14,
   "metadata": {
    "collapsed": false,
    "deletable": true,
    "editable": true,
    "scrolled": true
   },
   "outputs": [
    {
     "name": "stdout",
     "output_type": "stream",
     "text": [
      "############### Header #################\n",
      "# instrument: NIKA2\n",
      "# xref: 260.0\n",
      "# xtype: nu\n",
      "# comment: Channel 1H: FWHM=42 GHz from 241 to 283 GHz Take 260 GHz as the reference\n",
      "# comment: Data acquired at I. Neel, Grenoble with a Martin-Puplett Interferometer\n",
      "# comment: obtained in 2015\n",
      "# comment: NIKA2 initial configuration before going to the 30m telescope\n",
      "# comment: reduced v1 2015/10/14\n",
      "# comment: by A.Monfardini, A. F.X. Desert\n",
      "# comment: NIKA2 transmission is measured with a Rayleigh-Jeans spectrum in input\n",
      "# comment: which is thus consistent with Planets\n",
      "# comment: Hence, colour corrections have to be computed\n",
      "# comment: Updated transmission in Jan 2017, after the change of 2mm matrix\n",
      "# comment: and the lenses\n",
      "# ytype: rsr\n",
      "# filter: 1mmH\n",
      "# file: 1mmH.NIKA2.pb\n",
      "# xunit: GHz\n",
      "############### End of Header #################\n"
     ]
    }
   ],
   "source": [
    "print(pb1mmh)"
   ]
  },
  {
   "cell_type": "code",
   "execution_count": 15,
   "metadata": {
    "collapsed": true,
    "deletable": true,
    "editable": true
   },
   "outputs": [],
   "source": [
    "pb1mmh.header.add_card_value('bandwidth', 42*u.GHz)"
   ]
  },
  {
   "cell_type": "code",
   "execution_count": 16,
   "metadata": {
    "collapsed": false,
    "deletable": true,
    "editable": true
   },
   "outputs": [
    {
     "data": {
      "text/plain": [
       "'/Users/haussel/work/python/photometry/data/passbands/NIKA2/1mmH.NIKA2.pb'"
      ]
     },
     "execution_count": 16,
     "metadata": {},
     "output_type": "execute_result"
    }
   ],
   "source": [
    "pb1mmh.write(u.GHz, overwrite='True')"
   ]
  },
  {
   "cell_type": "code",
   "execution_count": 17,
   "metadata": {
    "collapsed": false,
    "deletable": true,
    "editable": true
   },
   "outputs": [
    {
     "data": {
      "text/plain": [
       "'/Users/haussel/work/python/photometry/data/passbands/NIKA2/1mmV.NIKA2.pb'"
      ]
     },
     "execution_count": 17,
     "metadata": {},
     "output_type": "execute_result"
    }
   ],
   "source": [
    "# Let's do the same for the oher bands\n",
    "tpb1v = Table.read(infile, hdu='CHANNEL1V')\n",
    "# No need for so many zeros\n",
    "idx1v, = np.where(tpb1v['NIKATRANS'] > 0)\n",
    "x = tpb1v['FREQ'][idx1v[0]-2:idx1v[-1]+3].data * u.GHz\n",
    "y = tpb1v['NIKATRANS'][idx1v[0]-2:idx1v[-1]+3].data\n",
    "hd = pt.PassbandHeader()\n",
    "hd.add_card_value('instrument', 'NIKA2')\n",
    "hd.add_card_value('filter', '1mmV')\n",
    "hd.add_card_value('xunit', u.GHz)\n",
    "hd.add_card_value('xtype', 'nu')\n",
    "hd.add_card_value('xref', 150.0)\n",
    "hd.add_card_value('ytype', 'rsr')\n",
    "# This is the name we want to use. \n",
    "hd.add_card_value('file', '1mmV.NIKA2.pb')\n",
    "for i in range(3, 9):\n",
    "    if i == 3:\n",
    "        hd.add_card_value('comment', hdu['CHANNEL2'].header['COMMENT'][i]+'e')\n",
    "    else:\n",
    "        hd.add_card_value('comment', hdu['CHANNEL2'].header['COMMENT'][i])\n",
    "for i in range(11, 14):\n",
    "    hd.add_card_value('comment', hdu['CHANNEL2'].header['COMMENT'][i])\n",
    "hd.add_card_value('comment', 'Updated transmission in Jan 2017, after the change of 2mm matrix')\n",
    "hd.add_card_value('comment', 'and the lenses')\n",
    "hd.add_card_value('bandwidth', 46 * u.GHz)\n",
    "pb1mmv = pt.Passband(x=x, y=y, header=hd)\n",
    "pb1mmv.write(u.GHz, overwrite=True)"
   ]
  },
  {
   "cell_type": "code",
   "execution_count": 18,
   "metadata": {
    "collapsed": false,
    "deletable": true,
    "editable": true
   },
   "outputs": [
    {
     "data": {
      "text/plain": [
       "'/Users/haussel/work/python/photometry/data/passbands/NIKA2/2mm.NIKA2.pb'"
      ]
     },
     "execution_count": 18,
     "metadata": {},
     "output_type": "execute_result"
    }
   ],
   "source": [
    "tpb2 = Table.read(infile, hdu='CHANNEL2')\n",
    "# No need for so many zeros\n",
    "idx2, = np.where(tpb2['NIKATRANS'] > 0)\n",
    "x = tpb2['FREQ'][idx2[0]-2:idx2[-1]+3].data * u.GHz\n",
    "y = tpb2['NIKATRANS'][idx2[0]-2:idx2[-1]+3].data\n",
    "hd = pt.PassbandHeader()\n",
    "hd.add_card_value('instrument', 'NIKA2')\n",
    "hd.add_card_value('filter', '2mm')\n",
    "hd.add_card_value('xunit', u.GHz)\n",
    "hd.add_card_value('xtype', 'nu')\n",
    "hd.add_card_value('xref', 260.0)\n",
    "hd.add_card_value('ytype', 'rsr')\n",
    "# This is the name we want to use. \n",
    "hd.add_card_value('file', '2mm.NIKA2.pb')\n",
    "for i in range(3, 9):\n",
    "    if i == 3:\n",
    "        hd.add_card_value('comment', hdu['CHANNEL1V'].header['COMMENT'][i]+'e')\n",
    "    else:\n",
    "        hd.add_card_value('comment', hdu['CHANNEL1V'].header['COMMENT'][i])\n",
    "for i in range(11, 14):\n",
    "    hd.add_card_value('comment', hdu['CHANNEL1V'].header['COMMENT'][i])\n",
    "hd.add_card_value('comment', 'Updated transmission in Jan 2017, after the change of 2mm matrix')\n",
    "hd.add_card_value('comment', 'and the lenses')\n",
    "hd.add_card_value('bandwidth', 42 * u.GHz)\n",
    "pb2mm = pt.Passband(x=x, y=y, header=hd)\n",
    "pb2mm.write(u.GHz,overwrite=True)"
   ]
  },
  {
   "cell_type": "code",
   "execution_count": null,
   "metadata": {
    "collapsed": true,
    "deletable": true,
    "editable": true
   },
   "outputs": [],
   "source": []
  }
 ],
 "metadata": {
  "kernelspec": {
   "display_name": "Python 3",
   "language": "python",
   "name": "python3"
  },
  "language_info": {
   "codemirror_mode": {
    "name": "ipython",
    "version": 3
   },
   "file_extension": ".py",
   "mimetype": "text/x-python",
   "name": "python",
   "nbconvert_exporter": "python",
   "pygments_lexer": "ipython3",
   "version": "3.5.3"
  }
 },
 "nbformat": 4,
 "nbformat_minor": 2
}
