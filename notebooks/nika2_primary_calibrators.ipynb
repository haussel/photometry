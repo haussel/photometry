{
 "cells": [
  {
   "cell_type": "markdown",
   "metadata": {
    "collapsed": true
   },
   "source": [
    "# NIKA2 Run preparation\n",
    "\n",
    "This notebook shows how to compute the primary calibrator fluxes for a NIKA2 run. These are the planets\n",
    "* Mars\n",
    "* Uranus\n",
    "* Neptune\n",
    "\n",
    "For each calibrator, we will write a text file containing the values"
   ]
  },
  {
   "cell_type": "code",
   "execution_count": 1,
   "metadata": {},
   "outputs": [],
   "source": [
    "import photometry as pt\n",
    "from astropy.time import Time\n",
    "from astropy import units as u\n",
    "import numpy as np\n",
    "import os"
   ]
  },
  {
   "cell_type": "code",
   "execution_count": 2,
   "metadata": {},
   "outputs": [],
   "source": [
    "# get the planet objects\n",
    "uranus = pt.GiantPlanet('Uranus', model_version='esa4')\n",
    "neptune = pt.GiantPlanet('Neptune', model_version='esa5')\n",
    "mars = pt.Mars()\n",
    "# and the NIKA2 passbands\n",
    "nika2mm = pt.Passband(file='2mm.NIKA2.pb')\n",
    "nika1mmH = pt.Passband(file='1mmH.NIKA2.pb')\n",
    "nika1mmV = pt.Passband(file='1mmV.NIKA2.pb')"
   ]
  },
  {
   "cell_type": "code",
   "execution_count": 3,
   "metadata": {},
   "outputs": [],
   "source": [
    "# define the variables defining the run\n",
    "output_dir = '/Users/haussel/work/nika2/commissioning/run27/'\n",
    "run = 27\n",
    "start_date = '2018-01-15'\n",
    "end_date = '2018-01-23'\n",
    "start_day = 15\n",
    "end_day = 23"
   ]
  },
  {
   "cell_type": "code",
   "execution_count": 4,
   "metadata": {},
   "outputs": [],
   "source": [
    "# Get one value per day\n",
    "dates = Time([\"2018-01-{:02d}\".format(x) for x in np.arange(start_day, end_day+1)], \n",
    "             format='iso')"
   ]
  },
  {
   "cell_type": "code",
   "execution_count": 5,
   "metadata": {},
   "outputs": [],
   "source": [
    "# compute the Neptune and Uranus Fluxes at the reference frequencies of each band\n",
    "neptune.set_dates(dates)\n",
    "uranus.set_dates(dates)\n",
    "spec_uranus = uranus.spectral_irradiance()\n",
    "spec_neptune = neptune.spectral_irradiance()\n",
    "\n",
    "fluxes_1mm_uranus= spec_uranus.fnu_nu(nika1mmH.xref(u.GHz)).to(u.Jy)\n",
    "fluxes_1mm_neptune = spec_neptune.fnu_nu(nika1mmH.xref(u.GHz)).to(u.Jy)\n",
    "fluxes_2mm_uranus = spec_uranus.fnu_nu(nika2mm.xref(u.GHz)).to(u.Jy)\n",
    "fluxes_2mm_neptune = spec_neptune.fnu_nu(nika2mm.xref(u.GHz)).to(u.Jy)"
   ]
  },
  {
   "cell_type": "code",
   "execution_count": 6,
   "metadata": {},
   "outputs": [
    {
     "data": {
      "text/latex": [
       "$[150,~260,~1600,~3200] \\; \\mathrm{GHz}$"
      ],
      "text/plain": [
       "<Quantity [ 150.,  260., 1600., 3200.] GHz>"
      ]
     },
     "execution_count": 6,
     "metadata": {},
     "output_type": "execute_result"
    }
   ],
   "source": [
    "# compute Mars fluxes at the reference frequencies for each run\n",
    "mars.set_beam('Iram30m')\n",
    "mars.set_instrument('NIKA2')"
   ]
  },
  {
   "cell_type": "code",
   "execution_count": 7,
   "metadata": {},
   "outputs": [],
   "source": [
    "Fnu150GHzMars = np.zeros(len(dates))\n",
    "Fnu260GHzMars = np.zeros(len(dates))\n",
    "for i, date in enumerate(dates):\n",
    "    Fnu150GHzMars[i] = mars.fnu(150 * u.GHz, date).value\n",
    "    Fnu260GHzMars[i] = mars.fnu(260 * u.GHz, date).value"
   ]
  },
  {
   "cell_type": "code",
   "execution_count": 8,
   "metadata": {},
   "outputs": [],
   "source": [
    "# for output, get days in a NIKA2 scan name  format\n",
    "days = [\"201801{:02d}\".format(x) for x in np.arange(start_day, end_day+1)]"
   ]
  },
  {
   "cell_type": "code",
   "execution_count": 9,
   "metadata": {},
   "outputs": [],
   "source": [
    "# write the output for uranus\n",
    "out_uranus = os.path.join(output_dir, 'uranus_run{}.txt'.format(run))\n",
    "with open(out_uranus, 'w') as fout:\n",
    "    fout.write(\"# Date Fnu_150GHz   Fnu_260GHz\")\n",
    "    for i, day in enumerate(days):\n",
    "        fout.write(\"{} {:5.3f} {:5.3f}\\n\".format(day, fluxes_2mm_uranus[i].value, \n",
    "                                                 fluxes_1mm_uranus[i].value))\n",
    "fout.close()"
   ]
  },
  {
   "cell_type": "code",
   "execution_count": 10,
   "metadata": {},
   "outputs": [],
   "source": [
    "# write the output for neptune\n",
    "out_neptune = os.path.join(output_dir, 'neptune_run{}.txt'.format(run))\n",
    "with open(out_neptune, 'w') as fout:\n",
    "    fout.write(\"# Date Fnu_150GHz   Fnu_260GHz\")\n",
    "    for i, day in enumerate(days):\n",
    "        fout.write(\"{} {:5.3f} {:5.3f}\\n\".format(day, fluxes_2mm_neptune[i].value, \n",
    "                                                 fluxes_1mm_neptune[i].value))\n",
    "fout.close()"
   ]
  },
  {
   "cell_type": "code",
   "execution_count": 11,
   "metadata": {},
   "outputs": [],
   "source": [
    "# write the output for mars\n",
    "out_mars = os.path.join(output_dir, 'mars_run{}.txt'.format(run))\n",
    "with open(out_mars, 'w') as fout:\n",
    "    fout.write(\"# Date Fnu_150GHz   Fnu_260GHz\")\n",
    "    for i, day in enumerate(days):\n",
    "        fout.write(\"{} {:5.3f} {:5.3f}\\n\".format(day, Fnu150GHzMars[i], \n",
    "                                                 Fnu260GHzMars[i]))\n",
    "fout.close()"
   ]
  },
  {
   "cell_type": "code",
   "execution_count": 12,
   "metadata": {},
   "outputs": [],
   "source": [
    "# All done. Email the files to Nicolas Ponthieu"
   ]
  },
  {
   "cell_type": "code",
   "execution_count": null,
   "metadata": {},
   "outputs": [],
   "source": []
  }
 ],
 "metadata": {
  "kernelspec": {
   "display_name": "Python 3",
   "language": "python",
   "name": "python3"
  },
  "language_info": {
   "codemirror_mode": {
    "name": "ipython",
    "version": 3
   },
   "file_extension": ".py",
   "mimetype": "text/x-python",
   "name": "python",
   "nbconvert_exporter": "python",
   "pygments_lexer": "ipython3",
   "version": "3.5.4"
  }
 },
 "nbformat": 4,
 "nbformat_minor": 1
}
